{
 "cells": [
  {
   "cell_type": "code",
   "execution_count": 17,
   "id": "2a9aa90a-d9a7-4168-aca6-7b630399d21d",
   "metadata": {},
   "outputs": [],
   "source": [
    "import numpy as np"
   ]
  },
  {
   "cell_type": "code",
   "execution_count": 24,
   "id": "d1055e7c-39b2-4367-ae9f-8031a0e9bac8",
   "metadata": {},
   "outputs": [
    {
     "data": {
      "text/plain": [
       "['bouffant', 'pixie', 'dreadlocks', 'crew', 'bowl', 'bob', 'mohawk', 'flattop']"
      ]
     },
     "execution_count": 24,
     "metadata": {},
     "output_type": "execute_result"
    }
   ],
   "source": [
    "hairstyles = [\"bouffant\", \"pixie\", \"dreadlocks\", \"crew\", \"bowl\", \"bob\", \"mohawk\", \"flattop\"]\n",
    "\n",
    "hairstyles"
   ]
  },
  {
   "cell_type": "code",
   "execution_count": 25,
   "id": "b506fe43-5c6d-42a9-a631-1802195221b9",
   "metadata": {},
   "outputs": [
    {
     "data": {
      "text/plain": [
       "[30, 25, 40, 20, 20, 35, 50, 35]"
      ]
     },
     "execution_count": 25,
     "metadata": {},
     "output_type": "execute_result"
    }
   ],
   "source": [
    "prices = [30, 25, 40, 20, 20, 35, 50, 35]\n",
    "prices"
   ]
  },
  {
   "cell_type": "code",
   "execution_count": 4,
   "id": "1487960b-04e6-4b8c-b589-0a04554a3ca8",
   "metadata": {},
   "outputs": [
    {
     "name": "stdout",
     "output_type": "stream",
     "text": [
      "[2, 3, 5, 8, 4, 4, 6, 2]\n"
     ]
    }
   ],
   "source": [
    "last_week = [2, 3, 5, 8, 4, 4, 6, 2]\n",
    "print(last_week)"
   ]
  },
  {
   "cell_type": "code",
   "execution_count": 11,
   "id": "a76b0b76-fb1d-4b5c-ba10-b8b68d6cc649",
   "metadata": {},
   "outputs": [],
   "source": [
    "total_prices = 0"
   ]
  },
  {
   "cell_type": "code",
   "execution_count": 12,
   "id": "d046a8c0-0f62-4974-b444-f5aaeb6e7f35",
   "metadata": {},
   "outputs": [
    {
     "name": "stdout",
     "output_type": "stream",
     "text": [
      "255\n"
     ]
    }
   ],
   "source": [
    "for i in range(len(prices)):\n",
    "    total_prices +=prices[i]\n",
    "    \n",
    "print(total_prices)"
   ]
  },
  {
   "cell_type": "code",
   "execution_count": 15,
   "id": "50742b9a-b28e-4911-98f0-6fb76762c1bd",
   "metadata": {},
   "outputs": [
    {
     "name": "stdout",
     "output_type": "stream",
     "text": [
      "Average price is 31.875\n"
     ]
    }
   ],
   "source": [
    "average_price = total_prices/len(prices)\n",
    "print('Average price is',average_price)"
   ]
  },
  {
   "cell_type": "code",
   "execution_count": 30,
   "id": "33a0d62b-cf2d-492b-a914-7104bad31fc3",
   "metadata": {},
   "outputs": [
    {
     "name": "stdout",
     "output_type": "stream",
     "text": [
      "[25 20 35 15 15 30 45 30]\n"
     ]
    }
   ],
   "source": [
    "np_prices = np.array(prices) \n",
    "\n",
    "new_prices = np_prices - 5\n",
    "print(new_prices)"
   ]
  },
  {
   "cell_type": "code",
   "execution_count": 33,
   "id": "599f9fe2-fea3-413f-881d-b065c4a6e8fc",
   "metadata": {},
   "outputs": [
    {
     "name": "stdout",
     "output_type": "stream",
     "text": [
      "Average daily revenue is 155.0\n"
     ]
    }
   ],
   "source": [
    "total_revenue = 0\n",
    "for i in range(len(hairstyles)):\n",
    "    total_revenue += prices[i] * last_week[i]\n",
    "    \n",
    "average_daily_revenue = total_revenue/7\n",
    "\n",
    "print('Average daily revenue is', average_daily_revenue)"
   ]
  },
  {
   "cell_type": "code",
   "execution_count": 34,
   "id": "c8271be7-adf9-4853-a01f-1a77fa3d8cf6",
   "metadata": {},
   "outputs": [
    {
     "name": "stdout",
     "output_type": "stream",
     "text": [
      "['bouffant', 'pixie', 'crew', 'bowl']\n"
     ]
    }
   ],
   "source": [
    "cuts_under_30 = [hairstyles[i] for i in range(len(new_prices)) if new_prices[i]<30]\n",
    "\n",
    "print(cuts_under_30)"
   ]
  }
 ],
 "metadata": {
  "kernelspec": {
   "display_name": "Python 3 (ipykernel)",
   "language": "python",
   "name": "python3"
  },
  "language_info": {
   "codemirror_mode": {
    "name": "ipython",
    "version": 3
   },
   "file_extension": ".py",
   "mimetype": "text/x-python",
   "name": "python",
   "nbconvert_exporter": "python",
   "pygments_lexer": "ipython3",
   "version": "3.9.13"
  }
 },
 "nbformat": 4,
 "nbformat_minor": 5
}
